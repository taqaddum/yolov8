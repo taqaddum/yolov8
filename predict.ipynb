{
 "cells": [
  {
   "cell_type": "code",
   "execution_count": 1,
   "metadata": {},
   "outputs": [],
   "source": [
    "from ultralytics import YOLO\n"
   ]
  },
  {
   "cell_type": "code",
   "execution_count": null,
   "metadata": {},
   "outputs": [],
   "source": [
    "from multiprocessing.shared_memory import ShareableList"
   ]
  },
  {
   "cell_type": "code",
   "execution_count": 2,
   "metadata": {},
   "outputs": [],
   "source": [
    "s = ShareableList(name=\"yolo\")\n",
    "if s is not None:\n",
    "    s.shm.close()\n",
    "    s.shm.unlink()"
   ]
  },
  {
   "cell_type": "code",
   "execution_count": 9,
   "metadata": {},
   "outputs": [
    {
     "name": "stdout",
     "output_type": "stream",
     "text": [
      "\n",
      "image 1/1 /www/D/PycharmProjects/新建文件夹/图片/手机玻璃后盖缺陷/1317.jpg: 768x1024 1 FCollapse, 5.4ms\n",
      "Speed: 6.8ms preprocess, 5.4ms inference, 0.9ms postprocess per image at shape (1, 3, 768, 1024)\n",
      "Results saved to \u001b[1m/home/jhzou/yolov8/runs/detect/predict4\u001b[0m\n"
     ]
    }
   ],
   "source": [
    "model = YOLO(\"glass-detection/logs/weights/best.pt\")\n",
    "results = model.predict(\n",
    "    \"/www/D/PycharmProjects/新建文件夹/图片/手机玻璃后盖缺陷/1317.jpg\",\n",
    "    save=True,\n",
    ")"
   ]
  },
  {
   "cell_type": "code",
   "execution_count": 10,
   "metadata": {},
   "outputs": [
    {
     "data": {
      "text/plain": [
       "ultralytics.engine.results.Results object with attributes:\n",
       "\n",
       "boxes: ultralytics.engine.results.Boxes object\n",
       "keypoints: None\n",
       "masks: None\n",
       "names: {0: 'IFissure', 1: 'Chipping', 2: 'PCollapse', 3: 'FCollapse', 4: 'Breach'}\n",
       "obb: None\n",
       "orig_img: array([[[135, 135, 135],\n",
       "        [133, 133, 133],\n",
       "        [135, 135, 135],\n",
       "        ...,\n",
       "        [199, 199, 199],\n",
       "        [202, 202, 202],\n",
       "        [205, 205, 205]],\n",
       "\n",
       "       [[135, 135, 135],\n",
       "        [133, 133, 133],\n",
       "        [135, 135, 135],\n",
       "        ...,\n",
       "        [205, 205, 205],\n",
       "        [203, 203, 203],\n",
       "        [201, 201, 201]],\n",
       "\n",
       "       [[135, 135, 135],\n",
       "        [134, 134, 134],\n",
       "        [135, 135, 135],\n",
       "        ...,\n",
       "        [204, 204, 204],\n",
       "        [202, 202, 202],\n",
       "        [200, 200, 200]],\n",
       "\n",
       "       ...,\n",
       "\n",
       "       [[140, 140, 140],\n",
       "        [139, 139, 139],\n",
       "        [139, 139, 139],\n",
       "        ...,\n",
       "        [201, 201, 201],\n",
       "        [200, 200, 200],\n",
       "        [201, 201, 201]],\n",
       "\n",
       "       [[141, 141, 141],\n",
       "        [140, 140, 140],\n",
       "        [139, 139, 139],\n",
       "        ...,\n",
       "        [211, 211, 211],\n",
       "        [209, 209, 209],\n",
       "        [210, 210, 210]],\n",
       "\n",
       "       [[135, 135, 135],\n",
       "        [137, 137, 137],\n",
       "        [139, 139, 139],\n",
       "        ...,\n",
       "        [209, 209, 209],\n",
       "        [209, 209, 209],\n",
       "        [209, 209, 209]]], dtype=uint8)\n",
       "orig_shape: (6913, 9284)\n",
       "path: '/www/D/PycharmProjects/新建文件夹/图片/手机玻璃后盖缺陷/1317.jpg'\n",
       "probs: None\n",
       "save_dir: '/home/jhzou/yolov8/runs/detect/predict4'\n",
       "speed: {'preprocess': 6.772756576538086, 'inference': 5.413293838500977, 'postprocess': 0.8993148803710938}"
      ]
     },
     "execution_count": 10,
     "metadata": {},
     "output_type": "execute_result"
    }
   ],
   "source": [
    "data = results[0]\n",
    "data"
   ]
  }
 ],
 "metadata": {
  "kernelspec": {
   "display_name": "yolov8",
   "language": "python",
   "name": "python3"
  },
  "language_info": {
   "codemirror_mode": {
    "name": "ipython",
    "version": 3
   },
   "file_extension": ".py",
   "mimetype": "text/x-python",
   "name": "python",
   "nbconvert_exporter": "python",
   "pygments_lexer": "ipython3",
   "version": "3.10.13"
  }
 },
 "nbformat": 4,
 "nbformat_minor": 2
}
