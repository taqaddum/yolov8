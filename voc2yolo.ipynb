{
 "cells": [
  {
   "cell_type": "code",
   "execution_count": 1,
   "metadata": {},
   "outputs": [],
   "source": [
    "import os\n",
    "import random\n",
    "import xml.etree.ElementTree as ET"
   ]
  },
  {
   "cell_type": "code",
   "execution_count": 2,
   "metadata": {
    "tags": [
     "划分数据集"
    ]
   },
   "outputs": [],
   "source": [
    "trainval_percent = 1.0\n",
    "train_percent = 0.9\n",
    "xmlfilepath = \"/home/jhzou/NGVOC/annotations\"\n",
    "txtsavepath = \"/home/jhzou/NGVOC/datasets/Main\"\n",
    "total_xml = os.listdir(xmlfilepath)\n",
    "if not os.path.exists(txtsavepath):\n",
    "    os.makedirs(txtsavepath)\n",
    "\n",
    "num = len(total_xml)\n",
    "list_index = range(num)\n",
    "tv = int(num * trainval_percent)\n",
    "tr = int(tv * train_percent)\n",
    "trainval = random.sample(list_index, tv)\n",
    "train = random.sample(trainval, tr)\n",
    "\n",
    "file_trainval = open(txtsavepath + \"/trainval.txt\", \"w\")\n",
    "file_test = open(txtsavepath + \"/test.txt\", \"w\")\n",
    "file_train = open(txtsavepath + \"/train.txt\", \"w\")\n",
    "file_val = open(txtsavepath + \"/val.txt\", \"w\")\n",
    "\n",
    "for i in list_index:\n",
    "    name = total_xml[i][:-4] + \"\\n\"\n",
    "    if i in trainval:\n",
    "        file_trainval.write(name)\n",
    "        if i in train:\n",
    "            file_train.write(name)\n",
    "        else:\n",
    "            file_val.write(name)\n",
    "    else:\n",
    "        file_test.write(name)\n",
    "\n",
    "file_trainval.close()\n",
    "file_train.close()\n",
    "file_val.close()\n",
    "file_test.close()"
   ]
  },
  {
   "cell_type": "code",
   "execution_count": 3,
   "metadata": {
    "tags": [
     "转换为yolo格式"
    ]
   },
   "outputs": [],
   "source": [
    "sets = [\"train\", \"val\", \"test\"]\n",
    "classes = [\"IFissure\", \"Chipping\", \"PCollapse\", \"FCollapse\", \"Breach\"]  # 改成自己的类别\n",
    "\n",
    "\n",
    "def convert(size, box):\n",
    "    dw = 1.0 / (size[0])\n",
    "    dh = 1.0 / (size[1])\n",
    "    x = (box[0] + box[1]) / 2.0 - 1\n",
    "    y = (box[2] + box[3]) / 2.0 - 1\n",
    "    w = box[1] - box[0]\n",
    "    h = box[3] - box[2]\n",
    "    x = x * dw\n",
    "    w = w * dw\n",
    "    y = y * dh\n",
    "    h = h * dh\n",
    "    return x, y, w, h\n",
    "\n",
    "\n",
    "def convert_annotation(image_id):\n",
    "    in_file = open(\n",
    "        \"/home/jhzou/NGVOC/annotations/%s.xml\" % (image_id), encoding=\"UTF-8\"\n",
    "    )\n",
    "    out_file = open(\"/home/jhzou/NGVOC/labels/%s.txt\" % (image_id), \"w\")\n",
    "    tree = ET.parse(in_file)\n",
    "    root = tree.getroot()\n",
    "    size = root.find(\"size\")\n",
    "    w = int(size.find(\"width\").text)\n",
    "    h = int(size.find(\"height\").text)\n",
    "    for obj in root.iter(\"object\"):\n",
    "        # difficult = obj.find('difficult').text\n",
    "\n",
    "        cls = obj.find(\"name\").text\n",
    "        if cls not in classes:\n",
    "            continue\n",
    "        cls_id = classes.index(cls)\n",
    "        xmlbox = obj.find(\"bndbox\")\n",
    "        b = (\n",
    "            float(xmlbox.find(\"xmin\").text),\n",
    "            float(xmlbox.find(\"xmax\").text),\n",
    "            float(xmlbox.find(\"ymin\").text),\n",
    "            float(xmlbox.find(\"ymax\").text),\n",
    "        )\n",
    "        b1, b2, b3, b4 = b\n",
    "        # 标注越界修正\n",
    "        if b2 > w:\n",
    "            b2 = w\n",
    "        if b4 > h:\n",
    "            b4 = h\n",
    "        b = (b1, b2, b3, b4)\n",
    "        bb = convert((w, h), b)\n",
    "        out_file.write(str(cls_id) + \" \" + \" \".join([str(a) for a in bb]) + \"\\n\")\n",
    "\n",
    "\n",
    "for image_set in sets:\n",
    "    if not os.path.exists(\"/home/jhzou/NGVOC/labels/\"):\n",
    "        os.makedirs(\"/home/jhzou/NGVOC/labels/\")\n",
    "    image_ids = (\n",
    "        open(\"/home/jhzou/NGVOC/datasets/Main/%s.txt\" % (image_set))\n",
    "        .read()\n",
    "        .strip()\n",
    "        .split()\n",
    "    )\n",
    "    list_file = open(\"/home/jhzou/NGVOC/%s.txt\" % (image_set), \"w\")\n",
    "    for image_id in image_ids:\n",
    "        list_file.write(\"/home/jhzou/NGVOC/images/%s.jpg\\n\" % (image_id))\n",
    "        convert_annotation(image_id)\n",
    "    list_file.close()"
   ]
  }
 ],
 "metadata": {
  "kernelspec": {
   "display_name": "yolov8",
   "language": "python",
   "name": "python3"
  },
  "language_info": {
   "codemirror_mode": {
    "name": "ipython",
    "version": 3
   },
   "file_extension": ".py",
   "mimetype": "text/x-python",
   "name": "python",
   "nbconvert_exporter": "python",
   "pygments_lexer": "ipython3",
   "version": "3.10.13"
  }
 },
 "nbformat": 4,
 "nbformat_minor": 2
}
